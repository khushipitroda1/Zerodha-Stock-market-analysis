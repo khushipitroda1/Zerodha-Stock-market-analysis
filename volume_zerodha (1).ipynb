{
  "nbformat": 4,
  "nbformat_minor": 0,
  "metadata": {
    "colab": {
      "name": "volume zerodha",
      "provenance": [],
      "collapsed_sections": [],
      "toc_visible": true
    },
    "kernelspec": {
      "name": "python3",
      "display_name": "Python 3"
    },
    "language_info": {
      "name": "python"
    }
  },
  "cells": [
    {
      "cell_type": "code",
      "source": [
        "pip install jugaad_trader"
      ],
      "metadata": {
        "colab": {
          "base_uri": "https://localhost:8080/"
        },
        "id": "vA2oGFbuk2nG",
        "outputId": "5e9a8dac-d78d-4447-9cff-1b2942eb2dde"
      },
      "execution_count": null,
      "outputs": [
        {
          "output_type": "stream",
          "name": "stdout",
          "text": [
            "Looking in indexes: https://pypi.org/simple, https://us-python.pkg.dev/colab-wheels/public/simple/\n",
            "Requirement already satisfied: jugaad_trader in /usr/local/lib/python3.7/dist-packages (0.18)\n",
            "Requirement already satisfied: websockets==8.1 in /usr/local/lib/python3.7/dist-packages (from jugaad_trader) (8.1)\n",
            "Requirement already satisfied: Click==7.1.2 in /usr/local/lib/python3.7/dist-packages (from jugaad_trader) (7.1.2)\n",
            "Requirement already satisfied: six in /usr/local/lib/python3.7/dist-packages (from jugaad_trader) (1.15.0)\n",
            "Requirement already satisfied: kiteconnect==3.8.2 in /usr/local/lib/python3.7/dist-packages (from jugaad_trader) (3.8.2)\n",
            "Requirement already satisfied: beautifulsoup4 in /usr/local/lib/python3.7/dist-packages (from jugaad_trader) (4.6.3)\n",
            "Requirement already satisfied: requests==2.23.0 in /usr/local/lib/python3.7/dist-packages (from jugaad_trader) (2.23.0)\n",
            "Requirement already satisfied: pyOpenSSL>=17.5.0 in /usr/local/lib/python3.7/dist-packages (from kiteconnect==3.8.2->jugaad_trader) (22.0.0)\n",
            "Requirement already satisfied: enum34>=1.1.6 in /usr/local/lib/python3.7/dist-packages (from kiteconnect==3.8.2->jugaad_trader) (1.1.10)\n",
            "Requirement already satisfied: python-dateutil>=2.6.1 in /usr/local/lib/python3.7/dist-packages (from kiteconnect==3.8.2->jugaad_trader) (2.8.2)\n",
            "Requirement already satisfied: autobahn[twisted]>=17.10.1 in /usr/local/lib/python3.7/dist-packages (from kiteconnect==3.8.2->jugaad_trader) (22.6.1)\n",
            "Requirement already satisfied: chardet<4,>=3.0.2 in /usr/local/lib/python3.7/dist-packages (from requests==2.23.0->jugaad_trader) (3.0.4)\n",
            "Requirement already satisfied: urllib3!=1.25.0,!=1.25.1,<1.26,>=1.21.1 in /usr/local/lib/python3.7/dist-packages (from requests==2.23.0->jugaad_trader) (1.24.3)\n",
            "Requirement already satisfied: idna<3,>=2.5 in /usr/local/lib/python3.7/dist-packages (from requests==2.23.0->jugaad_trader) (2.10)\n",
            "Requirement already satisfied: certifi>=2017.4.17 in /usr/local/lib/python3.7/dist-packages (from requests==2.23.0->jugaad_trader) (2022.6.15)\n",
            "Requirement already satisfied: txaio>=21.2.1 in /usr/local/lib/python3.7/dist-packages (from autobahn[twisted]>=17.10.1->kiteconnect==3.8.2->jugaad_trader) (22.2.1)\n",
            "Requirement already satisfied: setuptools in /usr/local/lib/python3.7/dist-packages (from autobahn[twisted]>=17.10.1->kiteconnect==3.8.2->jugaad_trader) (57.4.0)\n",
            "Requirement already satisfied: hyperlink>=21.0.0 in /usr/local/lib/python3.7/dist-packages (from autobahn[twisted]>=17.10.1->kiteconnect==3.8.2->jugaad_trader) (21.0.0)\n",
            "Requirement already satisfied: cryptography>=3.4.6 in /usr/local/lib/python3.7/dist-packages (from autobahn[twisted]>=17.10.1->kiteconnect==3.8.2->jugaad_trader) (37.0.4)\n",
            "Requirement already satisfied: zope.interface>=5.2.0 in /usr/local/lib/python3.7/dist-packages (from autobahn[twisted]>=17.10.1->kiteconnect==3.8.2->jugaad_trader) (5.4.0)\n",
            "Requirement already satisfied: twisted>=20.3.0 in /usr/local/lib/python3.7/dist-packages (from autobahn[twisted]>=17.10.1->kiteconnect==3.8.2->jugaad_trader) (22.4.0)\n",
            "Requirement already satisfied: attrs>=20.3.0 in /usr/local/lib/python3.7/dist-packages (from autobahn[twisted]>=17.10.1->kiteconnect==3.8.2->jugaad_trader) (21.4.0)\n",
            "Requirement already satisfied: cffi>=1.12 in /usr/local/lib/python3.7/dist-packages (from cryptography>=3.4.6->autobahn[twisted]>=17.10.1->kiteconnect==3.8.2->jugaad_trader) (1.15.1)\n",
            "Requirement already satisfied: pycparser in /usr/local/lib/python3.7/dist-packages (from cffi>=1.12->cryptography>=3.4.6->autobahn[twisted]>=17.10.1->kiteconnect==3.8.2->jugaad_trader) (2.21)\n",
            "Requirement already satisfied: typing-extensions>=3.6.5 in /usr/local/lib/python3.7/dist-packages (from twisted>=20.3.0->autobahn[twisted]>=17.10.1->kiteconnect==3.8.2->jugaad_trader) (4.1.1)\n",
            "Requirement already satisfied: Automat>=0.8.0 in /usr/local/lib/python3.7/dist-packages (from twisted>=20.3.0->autobahn[twisted]>=17.10.1->kiteconnect==3.8.2->jugaad_trader) (20.2.0)\n",
            "Requirement already satisfied: incremental>=21.3.0 in /usr/local/lib/python3.7/dist-packages (from twisted>=20.3.0->autobahn[twisted]>=17.10.1->kiteconnect==3.8.2->jugaad_trader) (21.3.0)\n",
            "Requirement already satisfied: constantly>=15.1 in /usr/local/lib/python3.7/dist-packages (from twisted>=20.3.0->autobahn[twisted]>=17.10.1->kiteconnect==3.8.2->jugaad_trader) (15.1.0)\n"
          ]
        }
      ]
    },
    {
      "cell_type": "code",
      "source": [
        "!jtrader zerodha startsession"
      ],
      "metadata": {
        "id": "5WGjG-zflM7J",
        "colab": {
          "base_uri": "https://localhost:8080/"
        },
        "outputId": "45c581b3-ac8a-44b5-f5b3-2a3b9e4f71fe"
      },
      "execution_count": null,
      "outputs": [
        {
          "output_type": "stream",
          "name": "stdout",
          "text": [
            "User ID >: WS3778\n",
            "Password >: \n",
            "Pin >: \n",
            "\u001b[32mLogged in successfully as Sarojben Mansukhbhai Dodiya\u001b[0m\n",
            "Saved session successfully\n"
          ]
        }
      ]
    },
    {
      "cell_type": "code",
      "source": [
        "from google.colab import drive\n",
        "drive.mount('/content/drive' )\n",
        "import os \n",
        "os.chdir(\"/content/drive/MyDrive/zerodha\")  "
      ],
      "metadata": {
        "id": "Emq5EdUk0C7b",
        "colab": {
          "base_uri": "https://localhost:8080/"
        },
        "outputId": "714ab527-00c0-4c9b-b16f-7675d0acc5cd"
      },
      "execution_count": null,
      "outputs": [
        {
          "output_type": "stream",
          "name": "stdout",
          "text": [
            "Mounted at /content/drive\n"
          ]
        }
      ]
    },
    {
      "cell_type": "code",
      "execution_count": null,
      "metadata": {
        "id": "7xNBeShskxlA",
        "colab": {
          "base_uri": "https://localhost:8080/"
        },
        "outputId": "e7d631a9-2138-42cb-a243-a83832693e4c"
      },
      "outputs": [
        {
          "output_type": "stream",
          "name": "stdout",
          "text": [
            " \n",
            "Date: 2022-07-25     Candle number: 54  Volume: 133041   Average: 65171.018867924526\n",
            "Date: 2022-07-25     Candle number: 56  Volume: 203413   Average: 66470.83636363636\n",
            "Date: 2022-07-25     Candle number: 60  Volume: 155896   Average: 70447.84745762713\n",
            "Date: 2022-07-25     Candle number: 61  Volume: 211977   Average: 71871.98333333334\n",
            "Date: 2022-07-25     Candle number: 65  Volume: 241005   Average: 76590.15625\n",
            "Date: 2022-07-25     Candle number: 70  Volume: 166843   Average: 79215.27536231885\n",
            " \n",
            "Date: 2022-07-26     Candle number: 17  Volume: 1060367   Average: 120162.0\n",
            "Date: 2022-07-26     Candle number: 65  Volume: 199143   Average: 94641.71875\n",
            "Date: 2022-07-26     Candle number: 66  Volume: 194284   Average: 96249.43076923076\n",
            "Date: 2022-07-26     Candle number: 73  Volume: 228895   Average: 96754.33333333333\n",
            "Date: 2022-07-26     Candle number: 74  Volume: 215494   Average: 98564.47945205479\n",
            " \n",
            "Date: 2022-07-27     Candle number: 47  Volume: 160094   Average: 57017.260869565216\n",
            "Date: 2022-07-27     Candle number: 52  Volume: 180171   Average: 59983.78431372549\n",
            "Date: 2022-07-27     Candle number: 53  Volume: 159393   Average: 62295.07692307692\n",
            "Date: 2022-07-27     Candle number: 59  Volume: 134704   Average: 64816.46551724138\n",
            "Date: 2022-07-27     Candle number: 60  Volume: 136580   Average: 66001.0\n",
            "Date: 2022-07-27     Candle number: 61  Volume: 335431   Average: 67177.31666666667\n",
            "Date: 2022-07-27     Candle number: 62  Volume: 332529   Average: 71574.91803278688\n",
            "Date: 2022-07-27     Candle number: 70  Volume: 235786   Average: 80241.86956521739\n",
            "Date: 2022-07-27     Candle number: 71  Volume: 227700   Average: 82463.92857142857\n",
            "Date: 2022-07-27     Candle number: 72  Volume: 303830   Average: 84509.50704225352\n",
            "Date: 2022-07-27     Candle number: 73  Volume: 246718   Average: 87555.625\n",
            "Date: 2022-07-27     Candle number: 74  Volume: 328519   Average: 89735.93150684932\n"
          ]
        }
      ],
      "source": [
        "from jugaad_trader import Zerodha\n",
        "import pandas as pd\n",
        "import numpy as np\n",
        "import statistics\n",
        "import datetime\n",
        "temp=1\n",
        "watchlist = {'HCLTECH','TECHM','SBILIFE','ASIANPAINT','WIPRO','ITC','INFY','TCS','RELIANCE','CIPLA','JSWSTEEL','HEROMOTOCO','NESTLEIND','HINDUNILVR','SHREECEM','BHARTIARTL','HDFCBANK','BRITANNIA','ICICIBANK','HDFCLIFE','TITAN','HINDALCO','BAJAJ-AUTO','DIVISLAB','SUNPHARMA','TATAMOTORS','UPL','TATASTEEL','BAJFINANCE','LT','SBIN','INDUSINDBK','TATACONSUM','COALINDIA','MARUTI','BPCL','ULTRACEMCO','HDFC','ADANIPORTS','DRREDDY','POWERGRID','BAJAJFINSV','AXISBANK','KOTAKBANK','IOC','M&M','ONGC','EICHERMOT','NTPC','GRASIM'}\n",
        "avg=1\n",
        "delta = 2\n",
        "\n",
        "interval = '5minute'\n",
        "to_date = datetime.datetime.now().date()\n",
        "from_date = to_date - datetime.timedelta(days=delta)\n",
        "\n",
        "\n",
        "def get_volume_data(name, from_, to, interval):\n",
        "    sum = 0\n",
        "    avg =1\n",
        "    kite = Zerodha()\n",
        "    kite.set_access_token()\n",
        "    q = kite.ltp('NSE:' + name)\n",
        "    token = q['NSE:' + name]['instrument_token']\n",
        "    data = kite.historical_data(token, from_date, to_date, interval)\n",
        "    df = pd.DataFrame(data)\n",
        "    df = df.set_index('date')\n",
        "    \n",
        "    df.to_csv('/content/drive/MyDrive/zerodha/' + name+ '.csv')\n",
        "\n",
        "\n",
        "    w = df['volume'].to_numpy()\n",
        "    avg_array=[]\n",
        "    \n",
        "    curr_date = to_date - datetime.timedelta(days=delta)\n",
        "    for i in range(len(w)):\n",
        "      \n",
        "      if(i%75==0):\n",
        "        sum = 0\n",
        "        avg = 0\n",
        "      sum = sum+w[i]\n",
        "      avg = sum/((i%75)+1)\n",
        "      avg_array.append(avg) \n",
        "      if (i%75==0):\n",
        "        print(\" \")\n",
        "      else:\n",
        "        if(w[i]>(2*avg_array[i-1])):\n",
        "          print(\"Date: \"+str(curr_date - datetime.timedelta(days=1))+\"     Candle number: \" + str(i%75+1) + \"  Volume: \"+str(w[i])+ \"   Average: \" + str(avg_array[i-1]))\n",
        "      if(i%75==0):\n",
        "        curr_date = curr_date + datetime.timedelta(days=1)\n",
        "      #print(\"     Candle number: \" + str(i%75) + \"  Volume: \"+str(w[i])+ \"   Average: \" + str(avg))\n",
        "\n",
        "   \n",
        "def get_sd_data(name, from_, to, interval):\n",
        "    sum = 0\n",
        "    avg =1\n",
        "    temp =1\n",
        "    kite = Zerodha()\n",
        "    kite.set_access_token()\n",
        "    q = kite.ltp('NSE:' + name)\n",
        "    token = q['NSE:' + name]['instrument_token']\n",
        "    data = kite.historical_data(token, from_date, to_date, interval)\n",
        "    df = pd.DataFrame(data)\n",
        "    df = df.set_index('date')\n",
        "    \n",
        "    df.to_csv('/content/drive/MyDrive/zerodha/' + name+ 'sd.csv')\n",
        "\n",
        "    w = df['close'].to_numpy()\n",
        "    close_array=[]\n",
        "    for i in range(len(w)):\n",
        "      if(i%75==0 or i%75==1):\n",
        "        continue\n",
        "        temp = i\n",
        "      else:\n",
        "        standard_deviation = statistics.stdev(w[temp-1:i])\n",
        "        close_array.append(standard_deviation) \n",
        "\n",
        "    curr_date = to_date - datetime.timedelta(days=delta)\n",
        "    for i in range(len(close_array)):\n",
        "      if(i%75==0):\n",
        "        curr_date = curr_date + datetime.timedelta(days=1)\n",
        "  \n",
        "      print(\"Date: \"+str(curr_date)+\"     Candle number: \" + str(i%75) + \"   SD: \" + str(close_array[i]))\n",
        "      \n",
        "\n",
        "#for name in watchlist:\n",
        "get_volume_data('WIPRO', from_date, to_date, interval)\n",
        "\n",
        "\n",
        "#get_sd_data('WIPRO',from_date, to_date, interval)"
      ]
    }
  ]
}